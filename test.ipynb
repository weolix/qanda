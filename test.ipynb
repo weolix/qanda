{
 "cells": [
  {
   "cell_type": "code",
   "execution_count": null,
   "metadata": {},
   "outputs": [],
   "source": [
    "import torch\n",
    "import dbclip"
   ]
  },
  {
   "cell_type": "code",
   "execution_count": null,
   "metadata": {},
   "outputs": [],
   "source": [
    "def delete_linear(pt_path:str):\n",
    "    state = torch.load(pt_path)\n",
    "    state.pop(\"fusion_aes_tec.out_ln.weight\")\n",
    "    state.pop('fusion_aes_tec.in_ln.weight')\n",
    "    torch.save(state, pt_path)"
   ]
  },
  {
   "cell_type": "code",
   "execution_count": null,
   "metadata": {},
   "outputs": [],
   "source": [
    "delete_linear('best.pt')"
   ]
  },
  {
   "cell_type": "code",
   "execution_count": null,
   "metadata": {},
   "outputs": [],
   "source": [
    "torch.nn.functional.sigmoid(torch.tensor([1])) * 5"
   ]
  },
  {
   "cell_type": "code",
   "execution_count": 16,
   "metadata": {},
   "outputs": [
    {
     "data": {
      "text/plain": [
       "['coca_base',\n",
       " 'coca_roberta-ViT-B-32',\n",
       " 'coca_ViT-B-32',\n",
       " 'coca_ViT-L-14',\n",
       " 'convnext_base',\n",
       " 'convnext_base_w',\n",
       " 'convnext_base_w_320',\n",
       " 'convnext_large',\n",
       " 'convnext_large_d',\n",
       " 'convnext_large_d_320',\n",
       " 'convnext_small',\n",
       " 'convnext_tiny',\n",
       " 'convnext_xlarge',\n",
       " 'convnext_xxlarge',\n",
       " 'convnext_xxlarge_320',\n",
       " 'EVA01-g-14',\n",
       " 'EVA01-g-14-plus',\n",
       " 'EVA02-B-16',\n",
       " 'EVA02-E-14',\n",
       " 'EVA02-E-14-plus',\n",
       " 'EVA02-L-14',\n",
       " 'EVA02-L-14-336',\n",
       " 'mt5-base-ViT-B-32',\n",
       " 'mt5-xl-ViT-H-14',\n",
       " 'nllb-clip-base',\n",
       " 'nllb-clip-base-siglip',\n",
       " 'nllb-clip-large',\n",
       " 'nllb-clip-large-siglip',\n",
       " 'RN50',\n",
       " 'RN50-quickgelu',\n",
       " 'RN50x4',\n",
       " 'RN50x16',\n",
       " 'RN50x64',\n",
       " 'RN101',\n",
       " 'RN101-quickgelu',\n",
       " 'roberta-ViT-B-32',\n",
       " 'swin_base_patch4_window7_224',\n",
       " 'ViT-B-16',\n",
       " 'ViT-B-16-plus',\n",
       " 'ViT-B-16-plus-240',\n",
       " 'ViT-B-16-quickgelu',\n",
       " 'ViT-B-16-SigLIP',\n",
       " 'ViT-B-16-SigLIP-256',\n",
       " 'ViT-B-16-SigLIP-384',\n",
       " 'ViT-B-16-SigLIP-512',\n",
       " 'ViT-B-16-SigLIP-i18n-256',\n",
       " 'ViT-B-32',\n",
       " 'ViT-B-32-256',\n",
       " 'ViT-B-32-plus-256',\n",
       " 'ViT-B-32-quickgelu',\n",
       " 'ViT-bigG-14',\n",
       " 'ViT-bigG-14-CLIPA',\n",
       " 'ViT-bigG-14-CLIPA-336',\n",
       " 'ViT-e-14',\n",
       " 'ViT-g-14',\n",
       " 'ViT-H-14',\n",
       " 'ViT-H-14-378-quickgelu',\n",
       " 'ViT-H-14-CLIPA',\n",
       " 'ViT-H-14-CLIPA-336',\n",
       " 'ViT-H-14-quickgelu',\n",
       " 'ViT-H-16',\n",
       " 'ViT-L-14',\n",
       " 'ViT-L-14-280',\n",
       " 'ViT-L-14-336',\n",
       " 'ViT-L-14-CLIPA',\n",
       " 'ViT-L-14-CLIPA-336',\n",
       " 'ViT-L-14-quickgelu',\n",
       " 'ViT-L-16',\n",
       " 'ViT-L-16-320',\n",
       " 'ViT-L-16-SigLIP-256',\n",
       " 'ViT-L-16-SigLIP-384',\n",
       " 'ViT-M-16',\n",
       " 'ViT-M-16-alt',\n",
       " 'ViT-M-32',\n",
       " 'ViT-M-32-alt',\n",
       " 'ViT-S-16',\n",
       " 'ViT-S-16-alt',\n",
       " 'ViT-S-32',\n",
       " 'ViT-S-32-alt',\n",
       " 'ViT-SO400M-14-SigLIP',\n",
       " 'ViT-SO400M-14-SigLIP-384',\n",
       " 'vit_medium_patch16_gap_256',\n",
       " 'vit_relpos_medium_patch16_cls_224',\n",
       " 'xlm-roberta-base-ViT-B-32',\n",
       " 'xlm-roberta-large-ViT-H-14']"
      ]
     },
     "execution_count": 16,
     "metadata": {},
     "output_type": "execute_result"
    }
   ],
   "source": [
    "import open_clip\n",
    "open_clip.list_models()"
   ]
  },
  {
   "cell_type": "code",
   "execution_count": 15,
   "metadata": {},
   "outputs": [
    {
     "ename": "AssertionError",
     "evalue": "No valid model config found for .",
     "output_type": "error",
     "traceback": [
      "\u001b[1;31m---------------------------------------------------------------------------\u001b[0m",
      "\u001b[1;31mAssertionError\u001b[0m                            Traceback (most recent call last)",
      "Cell \u001b[1;32mIn[15], line 3\u001b[0m\n\u001b[0;32m      1\u001b[0m clip \u001b[38;5;241m=\u001b[39m open_clip\u001b[38;5;241m.\u001b[39mload_openai_model(\u001b[38;5;124m'\u001b[39m\u001b[38;5;124mViT-B-16\u001b[39m\u001b[38;5;124m'\u001b[39m)\n\u001b[0;32m      2\u001b[0m clip\u001b[38;5;241m.\u001b[39mtransformer\u001b[38;5;241m.\u001b[39mwidth\n\u001b[1;32m----> 3\u001b[0m tokennize \u001b[38;5;241m=\u001b[39m \u001b[43mopen_clip\u001b[49m\u001b[38;5;241;43m.\u001b[39;49m\u001b[43mget_tokenizer\u001b[49m\u001b[43m(\u001b[49m\u001b[43m)\u001b[49m\n\u001b[0;32m      4\u001b[0m text \u001b[38;5;241m=\u001b[39m tokennize([\u001b[38;5;124m'\u001b[39m\u001b[38;5;124mArithmeticError\u001b[39m\u001b[38;5;124m'\u001b[39m])\n\u001b[0;32m      5\u001b[0m clip\u001b[38;5;241m.\u001b[39mencode_text(text)\u001b[38;5;241m.\u001b[39mshape\n",
      "File \u001b[1;32mc:\\Users\\Administrator\\AppData\\Local\\Programs\\Python\\Python310\\lib\\site-packages\\open_clip\\factory.py:101\u001b[0m, in \u001b[0;36mget_tokenizer\u001b[1;34m(model_name, context_length, **kwargs)\u001b[0m\n\u001b[0;32m     99\u001b[0m \u001b[38;5;28;01melse\u001b[39;00m:\n\u001b[0;32m    100\u001b[0m     config \u001b[38;5;241m=\u001b[39m get_model_config(model_name)\n\u001b[1;32m--> 101\u001b[0m     \u001b[38;5;28;01massert\u001b[39;00m config \u001b[38;5;129;01mis\u001b[39;00m \u001b[38;5;129;01mnot\u001b[39;00m \u001b[38;5;28;01mNone\u001b[39;00m, \u001b[38;5;124mf\u001b[39m\u001b[38;5;124m\"\u001b[39m\u001b[38;5;124mNo valid model config found for \u001b[39m\u001b[38;5;132;01m{\u001b[39;00mmodel_name\u001b[38;5;132;01m}\u001b[39;00m\u001b[38;5;124m.\u001b[39m\u001b[38;5;124m\"\u001b[39m\n\u001b[0;32m    103\u001b[0m text_config \u001b[38;5;241m=\u001b[39m config\u001b[38;5;241m.\u001b[39mget(\u001b[38;5;124m'\u001b[39m\u001b[38;5;124mtext_cfg\u001b[39m\u001b[38;5;124m'\u001b[39m, {})\n\u001b[0;32m    104\u001b[0m \u001b[38;5;28;01mif\u001b[39;00m \u001b[38;5;124m'\u001b[39m\u001b[38;5;124mtokenizer_kwargs\u001b[39m\u001b[38;5;124m'\u001b[39m \u001b[38;5;129;01min\u001b[39;00m text_config:\n",
      "\u001b[1;31mAssertionError\u001b[0m: No valid model config found for ."
     ]
    }
   ],
   "source": [
    "clip = open_clip.load_openai_model('ViT-B-16')\n",
    "clip.transformer.width\n",
    "tokennize = open_clip.get_tokenizer()\n",
    "text = tokennize(['ArithmeticError'])\n",
    "clip.encode_text(text).shape"
   ]
  }
 ],
 "metadata": {
  "kernelspec": {
   "display_name": "Python 3",
   "language": "python",
   "name": "python3"
  },
  "language_info": {
   "codemirror_mode": {
    "name": "ipython",
    "version": 3
   },
   "file_extension": ".py",
   "mimetype": "text/x-python",
   "name": "python",
   "nbconvert_exporter": "python",
   "pygments_lexer": "ipython3",
   "version": "3.10.10"
  }
 },
 "nbformat": 4,
 "nbformat_minor": 2
}

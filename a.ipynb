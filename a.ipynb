{
 "cells": [
  {
   "cell_type": "code",
   "execution_count": 2,
   "metadata": {},
   "outputs": [
    {
     "name": "stdout",
     "output_type": "stream",
     "text": [
      "divided\n",
      "None False\n",
      "Setting backbone: technical_backbone\n",
      "Setting head: technical_head\n"
     ]
    }
   ],
   "source": [
    "import yaml, torch\n",
    "from dover import DOVER\n",
    "with open(r\"../NTIREdataset/aigcc.yml\", \"r\") as f:\n",
    "    opt = yaml.safe_load(f)\n",
    "fast_vqa_encoder = DOVER(**opt[\"model\"][\"args\"])\n",
    "fast_vqa_encoder.load_state_dict(torch.load(r\"../DOVER/pretrained_weights/DOVER.pth\"),strict=False)\n",
    "vqa = fast_vqa_encoder.technical_backbone"
   ]
  },
  {
   "cell_type": "code",
   "execution_count": null,
   "metadata": {},
   "outputs": [],
   "source": [
    "torch.save(vqa, r\"pretrain/DOVER_technical_backbone.pth\")"
   ]
  }
 ],
 "metadata": {
  "kernelspec": {
   "display_name": "base",
   "language": "python",
   "name": "python3"
  },
  "language_info": {
   "codemirror_mode": {
    "name": "ipython",
    "version": 3
   },
   "file_extension": ".py",
   "mimetype": "text/x-python",
   "name": "python",
   "nbconvert_exporter": "python",
   "pygments_lexer": "ipython3",
   "version": "3.11.7"
  }
 },
 "nbformat": 4,
 "nbformat_minor": 2
}
